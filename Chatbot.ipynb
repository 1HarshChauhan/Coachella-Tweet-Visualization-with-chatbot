{
  "cells": [
    {
      "cell_type": "code",
      "execution_count": 1,
      "metadata": {
        "colab": {
          "base_uri": "https://localhost:8080/"
        },
        "id": "lzvD-zVRypO2",
        "outputId": "dcc1ccc1-5d41-4709-dfe8-f64e9a844b54"
      },
      "outputs": [
        {
          "output_type": "stream",
          "name": "stdout",
          "text": [
            "Requirement already satisfied: nltk in /usr/local/lib/python3.10/dist-packages (3.8.1)\n",
            "Requirement already satisfied: click in /usr/local/lib/python3.10/dist-packages (from nltk) (8.1.7)\n",
            "Requirement already satisfied: joblib in /usr/local/lib/python3.10/dist-packages (from nltk) (1.4.0)\n",
            "Requirement already satisfied: regex>=2021.8.3 in /usr/local/lib/python3.10/dist-packages (from nltk) (2023.12.25)\n",
            "Requirement already satisfied: tqdm in /usr/local/lib/python3.10/dist-packages (from nltk) (4.66.2)\n"
          ]
        }
      ],
      "source": [
        "!pip install nltk\n"
      ]
    },
    {
      "cell_type": "code",
      "execution_count": 2,
      "metadata": {
        "id": "2J4uzJCnyudR"
      },
      "outputs": [],
      "source": [
        "from nltk.chat.util import Chat, reflections\n",
        "import pandas as pd\n",
        "import numpy as np"
      ]
    },
    {
      "cell_type": "code",
      "execution_count": 8,
      "metadata": {
        "id": "ONmJ20inzjZ6"
      },
      "outputs": [],
      "source": [
        "#example of reflections that we have already imported\n",
        "reflections = {\n",
        "  \"i am\"       : \"you are\",\n",
        "  \"i was\"      : \"you were\",\n",
        "  \"i\"          : \"you\",\n",
        "  \"i'm\"        : \"you are\",\n",
        "  \"i'd\"        : \"you would\",\n",
        "  \"i've\"       : \"you have\",\n",
        "  \"i'll\"       : \"you will\",\n",
        "  \"my\"         : \"your\",\n",
        "  \"you are\"    : \"I am\",\n",
        "  \"you were\"   : \"I was\",\n",
        "  \"you've\"     : \"I have\",\n",
        "  \"you'll\"     : \"I will\",\n",
        "  \"your\"       : \"my\",\n",
        "  \"yours\"      : \"mine\",\n",
        "  \"you\"        : \"me\",\n",
        "  \"me\"         : \"you\"\n",
        "}"
      ]
    },
    {
      "cell_type": "code",
      "execution_count": 10,
      "metadata": {
        "id": "-of-XcEc0Y8Y"
      },
      "outputs": [],
      "source": [
        "pairs = [\n",
        "    # Greetings\n",
        "    [r\"hi|hello|hey\", [\"Hello!\", \"Hi there!\", \"Hey!\"]],\n",
        "    # Small talk\n",
        "    [r\"how are you ?|how r u|hw r u?|how r u?\", [\"I'm doing well, thank you!\", \"I'm good, thanks for asking.\"]],\n",
        "    # Handling user's name\n",
        "    [r\"my name is (.*)\", [\"Hello %1! Nice to meet you.\",]],\n",
        "    # Providing information about the chatbot\n",
        "    [r\"what can you do\\??\", [\"I can answer questions, tell jokes, provide recommendations, and more!\"]],\n",
        "    # Asking about the weather\n",
        "    [r\"what's the weather like today\\??\", [\"The weather today is sunny/cloudy/rainy/etc.\"]],\n",
        "    # Asking about the time\n",
        "    [r\"what time is it\\??\", [\"It's currently {time}.\"]],\n",
        "    # Asking for a joke\n",
        "    [r\"tell me a joke\", [\"Why don't scientists trust atoms? Because they make up everything!\"]],\n",
        "    # Asking for recommendations\n",
        "    [r\"do you have any recommendations for books\\??\", [\"One popular book is 'Sapiens: A Brief History of Humankind' by Yuval Noah Harari.\"]],\n",
        "    # Asking for fun facts\n",
        "    [r\"can you tell me a fun fact\\??\", [\"Sure! Did you know that the shortest war in history lasted only 38 minutes between Britain and Zanzibar in 1896?\"]],\n",
        "    # Asking for contact information\n",
        "    [r\"how can I contact support\\??\", [\"You can contact support by emailing support@example.com or calling our helpline at 1-800-123-4567.\"]],\n",
        "    # Asking about hobbies\n",
        "    [r\"what are your hobbies\\??\", [\"I'm a bot, so I don't have hobbies in the traditional sense. But I love helping users like you!\"]],\n",
        "    # Asking about the bot's age\n",
        "    [r\"how old are you\\??\", [\"I'm just a computer program, so I don't have an age!\"]],\n",
        "    # Asking for the purpose of the bot\n",
        "    [r\"what is your purpose\\??\", [\"My purpose is to assist you with any questions or tasks you have!\"]],\n",
        "    # Asking for help\n",
        "    [r\"can you help me\\??\", [\"Of course! What do you need help with?\"]],\n",
        "    # Expressing gratitude\n",
        "    [r\"thank you|thanks\", [\"You're welcome!\", \"No problem.\"]],\n",
        "    # Asking for more information\n",
        "    [r\"tell me more\", [\"Sure! What would you like to know more about?\"]],\n",
        "    # Requesting to quit the conversation\n",
        "    [r\"quit|exit|goodbye\", [\"Goodbye! Have a great day!\", \"See you later!\"]],\n",
        "    # Fallback response for unknown questions\n",
        "    [r\".*\", [\"I'm not sure I understand. Can you please rephrase or ask something else?\"]],\n",
        "    # Asking for the meaning of life\n",
        "    [r\"what is the meaning of life\\??\", [\"The meaning of life is subjective and can vary from person to person.\"]],\n",
        "    # Asking about favorite books\n",
        "    [r\"what's your favorite book\\??\", [\"As a bot, I don't read, but I've heard '1984' by George Orwell is a classic.\"]],\n",
        "    # Asking about favorite music\n",
        "    [r\"what kind of music do you like\\??\", [\"I don't have personal preferences, but I can recommend various genres.\"]],\n",
        "    # Asking for travel recommendations\n",
        "    [r\"can you recommend a travel destination\\??\", [\"One popular travel destination is Paris, known as the City of Love.\"]],\n",
        "    # Asking about dreams\n",
        "    [r\"do you dream??\", [\"I'm just a bot, so I don't dream like humans do.\"]],\n",
        "    # Asking about pets\n",
        "    [r\"do you have any pets\\??\", [\"As a virtual assistant, I don't have pets, but I'm happy to talk about them!\"]],\n",
        "    # Asking about favorite movies\n",
        "    [r\"what's your favorite movie\\??\", [\"I don't watch movies, but 'The Matrix' is often recommended.\"]],\n",
        "    # Asking about favorite TV shows\n",
        "    [r\"what's your favorite TV show\\??\", [\"I don't watch TV, but 'Breaking Bad' is highly acclaimed.\"]],\n",
        "    # Asking about favorite foods\n",
        "    [r\"what's your favorite food\\??\", [\"I don't eat, but I hear sushi is delicious.\"]],\n",
        "    # Asking about favorite sports\n",
        "    [r\"what's your favorite sport\\??\", [\"I don't play sports, but many people enjoy soccer.\"]],\n",
        "    # Asking about favorite hobbies\n",
        "    [r\"what's your favorite hobby\\??\", [\"I don't have hobbies, but reading and coding are popular among humans.\"]],\n",
        "    # Asking for advice on relationships\n",
        "    [r\"can you give me relationship advice\\??\", [\"Communication and mutual respect are key in any relationship.\"]],\n",
        "    # Asking about favorite quotes\n",
        "    [r\"do you have a favorite quote\\??\", [\"One famous quote is 'The only way to do great work is to love what you do.'\"]],\n",
        "    # Asking about favorite colors\n",
        "    [r\"what's your favorite color\\??\", [\"As a bot, I don't have preferences, but blue is often considered calming.\"]],\n",
        "    # Asking about favorite seasons\n",
        "    [r\"what's your favorite season\\??\", [\"As a bot, I don't experience seasons, but many people enjoy spring for its flowers.\"]],\n",
        "    # Asking about favorite holidays\n",
        "    [r\"what's your favorite holiday\\??\", [\"As a bot, I don't celebrate holidays, but I hear Christmas is popular.\"]],\n",
        "    # Asking about favorite animals\n",
        "    [r\"what's your favorite animal\\??\", [\"I'm a bot, so I don't have preferences, but cats and dogs are popular pets.\"]],\n",
        "\n",
        "]"
      ]
    },
    {
      "cell_type": "code",
      "execution_count": null,
      "metadata": {
        "colab": {
          "base_uri": "https://localhost:8080/"
        },
        "id": "ioKu149MQ9F3",
        "outputId": "7429f973-4b92-477f-9d85-1e5539c9c1cd"
      },
      "outputs": [
        {
          "metadata": {
            "tags": null
          },
          "name": "stdout",
          "output_type": "stream",
          "text": [
            "Hey there!I am a chatbot created for your service. Feel free to ask me anything!\n",
            "Bot: Hi there!\n",
            "Bot: I'm not sure I understand. Can you please rephrase or ask something else?\n"
          ]
        }
      ],
      "source": [
        "def chat():\n",
        "    print(\"Hey there!I am a chatbot created for your service. Feel free to ask me anything!\")\n",
        "    chat = Chat(pairs, reflections)\n",
        "    while True:\n",
        "        try:\n",
        "            response = chat.respond(input(\"You: \"))\n",
        "            print(\"Bot:\", response)\n",
        "        except KeyboardInterrupt:\n",
        "            print(\"Bot: Goodbye!\")\n",
        "            break\n",
        "        except:\n",
        "            print(\"Bot: I'm sorry, I didn't understand that. Can you please repeat?\")\n",
        "\n",
        "# Initiate the conversation\n",
        "if __name__ == \"__main__\":\n",
        "    chat()\n"
      ]
    },
    {
      "cell_type": "code",
      "execution_count": null,
      "metadata": {
        "id": "tWVjBZLLSYnN"
      },
      "outputs": [],
      "source": []
    }
  ],
  "metadata": {
    "colab": {
      "provenance": []
    },
    "kernelspec": {
      "display_name": "Python 3",
      "name": "python3"
    },
    "language_info": {
      "name": "python"
    }
  },
  "nbformat": 4,
  "nbformat_minor": 0
}